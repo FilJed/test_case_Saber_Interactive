{
 "cells": [
  {
   "cell_type": "code",
   "execution_count": 131,
   "metadata": {},
   "outputs": [],
   "source": [
    "import sqlite3\n",
    "\n",
    "\n",
    "def Execute_and_fetch(query=None):\n",
    "    if query is None:\n",
    "         query = input(\"Wrtite your query: \")\n",
    "         \n",
    "    try:\n",
    "        con = sqlite3.connect('./test.db')\n",
    "        cursor = con.cursor()\n",
    "        cursor.execute(query)\n",
    "        a = cursor.fetchall()\n",
    "        print(len(a))\n",
    "        return a\n",
    "    \n",
    "    except sqlite3.Error as error:\n",
    "\t    print(\"Failed to execute the above query\", error)\n",
    "            \n",
    "    finally:\n",
    "        if con:\n",
    "            con.close()"
   ]
  }
 ],
 "metadata": {
  "kernelspec": {
   "display_name": "Python 3",
   "language": "python",
   "name": "python3"
  },
  "language_info": {
   "codemirror_mode": {
    "name": "ipython",
    "version": 3
   },
   "file_extension": ".py",
   "mimetype": "text/x-python",
   "name": "python",
   "nbconvert_exporter": "python",
   "pygments_lexer": "ipython3",
   "version": "3.11.1"
  },
  "orig_nbformat": 4
 },
 "nbformat": 4,
 "nbformat_minor": 2
}
