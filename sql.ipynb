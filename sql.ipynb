{
 "cells": [
  {
   "cell_type": "code",
   "execution_count": 131,
   "metadata": {},
   "outputs": [],
   "source": [
    "import sqlite3\n",
    "\n",
    "\n",
    "def Execute_and_fetch(query=None):\n",
    "    if query is None:\n",
    "         query = input(\"Wrtite your query: \")\n",
    "         \n",
    "    try:\n",
    "        con = sqlite3.connect('./test.db')\n",
    "        cursor = con.cursor()\n",
    "        cursor.execute(query)\n",
    "        a = cursor.fetchall()\n",
    "        print(len(a))\n",
    "        return a\n",
    "    \n",
    "    except sqlite3.Error as error:\n",
    "\t    print(\"Failed to execute the above query\", error)\n",
    "            \n",
    "    finally:\n",
    "        if con:\n",
    "            con.close()"
   ]
  },
  {
   "cell_type": "code",
   "execution_count": null,
   "metadata": {},
   "outputs": [
    {
     "name": "stdout",
     "output_type": "stream",
     "text": [
      "25\n"
     ]
    },
    {
     "data": {
      "text/plain": [
       "[('Open', None, '2022-07-15 08:58:51', '2022-07-21 09:34:43'),\n",
       " ('In Progress', 'Open', '2022-07-21 09:34:43', '2022-08-01 11:51:43'),\n",
       " ('Resolved', 'In Progress', '2022-08-01 11:51:43', '2022-08-09 14:26:59'),\n",
       " ('Test', 'Resolved', '2022-08-09 14:26:59', '2022-08-09 14:47:27'),\n",
       " ('Reopened', 'Test', '2022-08-09 14:47:27', '2022-08-10 14:28:40'),\n",
       " ('Resolved', 'Reopened', '2022-08-10 14:28:40', '2022-08-19 09:03:45'),\n",
       " ('Test', 'Resolved', '2022-08-19 09:03:45', '2022-08-19 09:16:29'),\n",
       " ('Reopened', 'Test', '2022-08-19 09:16:29', '2022-08-22 09:37:21'),\n",
       " ('In Progress', 'Reopened', '2022-08-22 09:37:21', '2022-08-26 09:39:09'),\n",
       " ('In Review', 'In Progress', '2022-08-26 09:39:09', '2022-08-29 09:47:08'),\n",
       " ('In Testing', 'In Review', '2022-08-29 09:47:08', '2022-09-01 09:29:31'),\n",
       " ('Blocked', 'In Testing', '2022-09-01 09:29:31', '2022-09-01 09:29:34'),\n",
       " ('Open', 'Blocked', '2022-09-01 09:29:34', '2022-09-01 09:29:36'),\n",
       " ('In Progress', 'Open', '2022-09-01 09:29:36', '2022-09-01 09:29:41'),\n",
       " ('In Review', 'In Progress', '2022-09-01 09:29:41', '2022-09-02 09:35:57'),\n",
       " ('In Owl', 'In Review', '2022-09-02 09:35:57', '2022-10-28 07:56:22'),\n",
       " ('Resolved', 'In Owl', '2022-10-28 07:56:22', '2022-10-31 09:25:18'),\n",
       " ('Test', 'Resolved', '2022-10-31 09:25:18', '2022-10-31 09:44:30'),\n",
       " ('Closed', 'Test', '2022-10-31 09:44:30', '2022-11-08 14:11:00'),\n",
       " ('Resolved', 'Closed', '2022-11-08 14:11:00', '2022-11-10 08:54:07'),\n",
       " ('Test', 'Resolved', '2022-11-10 08:54:07', '2022-11-10 08:54:10'),\n",
       " ('Closed', 'Test', '2022-11-10 08:54:10', '2022-11-15 10:03:09'),\n",
       " ('Resolved', 'Closed', '2022-11-15 10:03:09', '2022-11-16 07:25:04'),\n",
       " ('Test', 'Resolved', '2022-11-16 07:25:04', '2022-11-16 07:27:13'),\n",
       " ('Closed', 'Test', '2022-11-16 07:27:13', None)]"
      ]
     },
     "metadata": {},
     "output_type": "display_data"
    }
   ],
   "source": [
    "# Take a look on any issue_key\n",
    "# one can see that current status is between started_at and ended_at\n",
    "\n",
    "q = f\"\"\"SELECT \n",
    "       status,\n",
    "       previous_status,\n",
    "       strftime('%Y-%m-%d %H:%M:%S', datetime(started_at / 1000, 'unixepoch')),\n",
    "       strftime('%Y-%m-%d %H:%M:%S', datetime(ended_at / 1000, 'unixepoch'))\n",
    "FROM history\n",
    "WHERE issue_key = 'B-7067'\n",
    "ORDER BY started_at\n",
    ";\"\"\"\n",
    "Execute_and_fetch(q)"
   ]
  }
 ],
 "metadata": {
  "kernelspec": {
   "display_name": "Python 3",
   "language": "python",
   "name": "python3"
  },
  "language_info": {
   "codemirror_mode": {
    "name": "ipython",
    "version": 3
   },
   "file_extension": ".py",
   "mimetype": "text/x-python",
   "name": "python",
   "nbconvert_exporter": "python",
   "pygments_lexer": "ipython3",
   "version": "3.11.1"
  },
  "orig_nbformat": 4
 },
 "nbformat": 4,
 "nbformat_minor": 2
}
